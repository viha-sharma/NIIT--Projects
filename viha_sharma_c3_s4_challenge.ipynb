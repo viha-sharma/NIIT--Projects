{
 "cells": [
  {
   "cell_type": "markdown",
   "id": "d2ee336d",
   "metadata": {},
   "source": [
    "# VIHA SHARMA - C3 S4 CHALLENGE"
   ]
  },
  {
   "cell_type": "code",
   "execution_count": 185,
   "id": "5a7ccc84",
   "metadata": {},
   "outputs": [],
   "source": [
    "# Creating the questions"
   ]
  },
  {
   "cell_type": "code",
   "execution_count": 171,
   "id": "4caec921",
   "metadata": {},
   "outputs": [],
   "source": [
    "q1 = \"\"\"\\033[1;3mQ1. Who developed Python Programming Language?\\033[0m\n",
    "(a) Guido van Rossum\n",
    "(b) Rasmus Lerdorf\n",
    "(c) Niene Stom\n",
    "(d) Wick van Rossum\"\"\""
   ]
  },
  {
   "cell_type": "code",
   "execution_count": 172,
   "id": "1736a285",
   "metadata": {},
   "outputs": [],
   "source": [
    "q2 = \"\"\"\\033[1;3mQ2. Which of the following is the correct extension of the Python file?\\033[0m\n",
    "(a) .python\n",
    "(b) .pl\n",
    "(c) .p\n",
    "(d) .py \"\"\""
   ]
  },
  {
   "cell_type": "code",
   "execution_count": 173,
   "id": "1261f955",
   "metadata": {},
   "outputs": [],
   "source": [
    "q3 = \"\"\"\\033[1;3mQ3. All keywords in Python are in _________\\033[0m\n",
    "(a) Capitalized\n",
    "(b) lower case\n",
    "(c) None of the mentioned\n",
    "(d) UPPER CASE\"\"\""
   ]
  },
  {
   "cell_type": "code",
   "execution_count": 174,
   "id": "a426e5d8",
   "metadata": {},
   "outputs": [],
   "source": [
    "q4 = \"\"\"\\033[1;3mQ4. What will be the value of the following Python expression?\\033[0m\n",
    "\n",
    "\\033[1;47m 4 + 3 % 5 \\033[0m\n",
    "\n",
    "(a) 2\n",
    "(b) 7\n",
    "(c) 4\n",
    "(d) 1\"\"\""
   ]
  },
  {
   "cell_type": "code",
   "execution_count": 175,
   "id": "0025761c",
   "metadata": {},
   "outputs": [],
   "source": [
    "q5 = \"\"\" \\033[1;3mQ5. Which of the following is used to define a block of code in Python language?\\033[0m\n",
    "(a) Brackets\n",
    "(b) Key\n",
    "(c) Indentation\n",
    "(d) All of the mentioned\"\"\"\n"
   ]
  },
  {
   "cell_type": "code",
   "execution_count": 176,
   "id": "6346fd63",
   "metadata": {},
   "outputs": [],
   "source": [
    "q6 = \"\"\"\\033[1;3mQ6. Which of the following character is used to give single-line comments in Python?\\033[0m\n",
    "(a) #\n",
    "(b) ''' '''\n",
    "(c) !\n",
    "(d) /*\"\"\""
   ]
  },
  {
   "cell_type": "code",
   "execution_count": 177,
   "id": "37dc1eca",
   "metadata": {},
   "outputs": [],
   "source": [
    "q7 = \"\"\"\\033[1;3mQ7. Which of the following is the truncation division operator in Python?\\033[0m\n",
    "(a) **\n",
    "(b) %\n",
    "(c) |\n",
    "(d) //\"\"\""
   ]
  },
  {
   "cell_type": "code",
   "execution_count": 178,
   "id": "af351e6e",
   "metadata": {},
   "outputs": [],
   "source": [
    "q8 = \"\"\"\\033[1;3mQ8. Which of the following functions is a built-in function in python?\\033[0m\n",
    "(a) print()\n",
    "(b) factorial()\n",
    "(c) seed()\n",
    "(d) sqrt()\"\"\""
   ]
  },
  {
   "cell_type": "code",
   "execution_count": 191,
   "id": "d99ebeec",
   "metadata": {},
   "outputs": [],
   "source": [
    "q9 = \"\"\" \\033[1;3mQ9. What will be the output of the following Python expression if x=56.236\\033[0m\n",
    "\n",
    "\\033[1;47m print(\"%.2f\"%x) \\033[0m\n",
    "\n",
    "(a) 56.236\n",
    "(b) 56.24\n",
    "(c) 56.0000\n",
    "(d) 56.23\"\"\""
   ]
  },
  {
   "cell_type": "code",
   "execution_count": 192,
   "id": "e3be2d70",
   "metadata": {},
   "outputs": [],
   "source": [
    "q10 = \"\"\" \\033[1;3mQ10. What arithmetic operators cannot be used with strings in Python?\\033[0m'\n",
    "(a) +\n",
    "(b) *\n",
    "(c) -\n",
    "(d) All of the above\"\"\""
   ]
  },
  {
   "cell_type": "code",
   "execution_count": 193,
   "id": "cdf0cc8a",
   "metadata": {},
   "outputs": [],
   "source": [
    "# Creating answer dictionary"
   ]
  },
  {
   "cell_type": "code",
   "execution_count": 194,
   "id": "a278ff15",
   "metadata": {},
   "outputs": [],
   "source": [
    "questions = {q1:'a', q2:'d', q3:'c', q4: 'b', q5:'c', q6:'a', q7:'d', q8:'a', q9:'b', q10:'c'}"
   ]
  },
  {
   "cell_type": "code",
   "execution_count": 195,
   "id": "70fff3fe",
   "metadata": {},
   "outputs": [],
   "source": [
    "# Creating explanation dictionary"
   ]
  },
  {
   "cell_type": "code",
   "execution_count": 196,
   "id": "b18253ec",
   "metadata": {},
   "outputs": [],
   "source": [
    "info = {q1:'\\033[1;43mEXPLANATION:\\033[0m Python was conceived in the late 1980s by Guido van Rossum at Centrum Wiskunde & Informatica (CWI) in the Netherlands as a successor to the ABC programming language', q2:'\\033[1;43mEXPLANATION:\\033[0m ‘.py’ is the correct extension of the Python file. Python programs can be written in any text editor. To save these programs we need to save in files with file extension ‘.py’.',q3:'\\033[1;43mEXPLANATION:\\033[0m True, False and None are capitalized while the others are in lower case.', q4:'\\033[1;43mEXPLANATION:\\033[0m  The order of precedence is: %, +. Hence the expression above, on simplification results in 4 + 3 = 7. Hence the result is 7.', q5:'\\033[1;43mEXPLANATION:\\033[0m In Python, to define a block of code we use indentation. Indentation refers to whitespaces at the beginning of the line.', q6:'\\033[1;43mEXPLANATION:\\033[0m To write single-line comments in Python use the Numero sign (#) at the beginning of the line. To write multi-line comments, close the text between triple quotes. Example: “”” comment“””', q7:'\\033[1;43mEXPLANATION:\\033[0m // is the operator for truncation division. It is called so because it returns only the integer part of the quotient, truncating the decimal part. For example: 20//3 = 6.', q8: '\\033[1;43mEXPLANATION:\\033[0m The function seed is a function which is present in the random module. The functions sqrt and factorial are a part of the math module. The print function is a built-in function which prints a value directly to the system output.',q9:'\\033[1;43mEXPLANATION:\\033[0m The expression shown above rounds off the given number to the number of decimal places specified. Since the expression given specifies rounding off to two decimal places, the output of this expression will be 56.24.',q10:'\\033[1;43mEXPLANATION:\\033[0m + is used to concatenate and * is used to multiply strings.' }"
   ]
  },
  {
   "cell_type": "code",
   "execution_count": 197,
   "id": "e264fd0b",
   "metadata": {
    "scrolled": true
   },
   "outputs": [
    {
     "data": {
      "text/plain": [
       "{'\\x1b[1;3mQ1. Who developed Python Programming Language?\\x1b[0m\\n(a) Guido van Rossum\\n(b) Rasmus Lerdorf\\n(c) Niene Stom\\n(d) Wick van Rossum': 'a',\n",
       " '\\x1b[1;3mQ2. Which of the following is the correct extension of the Python file?\\x1b[0m\\n(a) .python\\n(b) .pl\\n(c) .p\\n(d) .py ': 'd',\n",
       " '\\x1b[1;3mQ3. All keywords in Python are in _________\\x1b[0m\\n(a) Capitalized\\n(b) lower case\\n(c) None of the mentioned\\n(d) UPPER CASE': 'c',\n",
       " '\\x1b[1;3mQ4. What will be the value of the following Python expression?\\x1b[0m\\n\\n\\x1b[1;47m 4 + 3 % 5 \\x1b[0m\\n\\n(a) 2\\n(b) 7\\n(c) 4\\n(d) 1': 'b',\n",
       " ' \\x1b[1;3mQ5. Which of the following is used to define a block of code in Python language?\\x1b[0m\\n(a) Brackets\\n(b) Key\\n(c) Indentation\\n(d) All of the mentioned': 'c',\n",
       " \"\\x1b[1;3mQ6. Which of the following character is used to give single-line comments in Python?\\x1b[0m\\n(a) #\\n(b) ''' '''\\n(c) !\\n(d) /*\": 'a',\n",
       " '\\x1b[1;3mQ7. Which of the following is the truncation division operator in Python?\\x1b[0m\\n(a) **\\n(b) %\\n(c) |\\n(d) //': 'd',\n",
       " '\\x1b[1;3mQ8. Which of the following functions is a built-in function in python?\\x1b[0m\\n(a) print()\\n(b) factorial()\\n(c) seed()\\n(d) sqrt()': 'a',\n",
       " ' \\x1b[1;3mQ9. What will be the output of the following Python expression if x=56.236\\x1b[0m\\n\\n\\x1b[1;47m print(\"%.2f\"%x) \\x1b[0m\\n\\n(a) 56.236\\n(b) 56.24\\n(c) 56.0000\\n(d) 56.23': 'b',\n",
       " \" \\x1b[1;3mQ10. What arithmetic operators cannot be used with strings in Python?\\x1b[0m'\\n(a) +\\n(b) *\\n(c) -\\n(d) All of the above\": 'c'}"
      ]
     },
     "execution_count": 197,
     "metadata": {},
     "output_type": "execute_result"
    }
   ],
   "source": [
    "questions"
   ]
  },
  {
   "cell_type": "code",
   "execution_count": 198,
   "id": "5d297957",
   "metadata": {},
   "outputs": [],
   "source": [
    "# Creating the quiz using for loop"
   ]
  },
  {
   "cell_type": "code",
   "execution_count": 199,
   "id": "c656e50d",
   "metadata": {
    "scrolled": false
   },
   "outputs": [
    {
     "name": "stdout",
     "output_type": "stream",
     "text": [
      "Enter name:Viha\n",
      "**********************************************\n",
      "\u001b[1;3mWelcome to the general knowledge quiz\u001b[0m Viha !\n",
      "**********************************************\n",
      "\n",
      "\u001b[1;3mQ1. Who developed Python Programming Language?\u001b[0m\n",
      "(a) Guido van Rossum\n",
      "(b) Rasmus Lerdorf\n",
      "(c) Niene Stom\n",
      "(d) Wick van Rossum\n",
      "\n",
      "Would you like to skip this question (y/n)?:n\n",
      "Enter your answer (a/b/c/d):a\n",
      "\n",
      "-*-*-*-*-*-*-*-\n",
      "\u001b[1;42mCorrect answer!\u001b[0m\n",
      "-*-*-*-*-*-*-*-\n",
      "\n",
      "\u001b[1;43mEXPLANATION:\u001b[0m Python was conceived in the late 1980s by Guido van Rossum at Centrum Wiskunde & Informatica (CWI) in the Netherlands as a successor to the ABC programming language \n",
      "\n",
      "\n",
      "\u001b[1;3mQ2. Which of the following is the correct extension of the Python file?\u001b[0m\n",
      "(a) .python\n",
      "(b) .pl\n",
      "(c) .p\n",
      "(d) .py \n",
      "\n",
      "Would you like to skip this question (y/n)?:n\n",
      "Enter your answer (a/b/c/d):d\n",
      "\n",
      "-*-*-*-*-*-*-*-\n",
      "\u001b[1;42mCorrect answer!\u001b[0m\n",
      "-*-*-*-*-*-*-*-\n",
      "\n",
      "\u001b[1;43mEXPLANATION:\u001b[0m ‘.py’ is the correct extension of the Python file. Python programs can be written in any text editor. To save these programs we need to save in files with file extension ‘.py’. \n",
      "\n",
      "\n",
      "\u001b[1;3mQ3. All keywords in Python are in _________\u001b[0m\n",
      "(a) Capitalized\n",
      "(b) lower case\n",
      "(c) None of the mentioned\n",
      "(d) UPPER CASE\n",
      "\n",
      "Would you like to skip this question (y/n)?:y\n",
      "\n",
      "\u001b[1;3mQ4. What will be the value of the following Python expression?\u001b[0m\n",
      "\n",
      "\u001b[1;47m 4 + 3 % 5 \u001b[0m\n",
      "\n",
      "(a) 2\n",
      "(b) 7\n",
      "(c) 4\n",
      "(d) 1\n",
      "\n",
      "Would you like to skip this question (y/n)?:n\n",
      "Enter your answer (a/b/c/d):b\n",
      "\n",
      "-*-*-*-*-*-*-*-\n",
      "\u001b[1;42mCorrect answer!\u001b[0m\n",
      "-*-*-*-*-*-*-*-\n",
      "\n",
      "\u001b[1;43mEXPLANATION:\u001b[0m  The order of precedence is: %, +. Hence the expression above, on simplification results in 4 + 3 = 7. Hence the result is 7. \n",
      "\n",
      "\n",
      " \u001b[1;3mQ5. Which of the following is used to define a block of code in Python language?\u001b[0m\n",
      "(a) Brackets\n",
      "(b) Key\n",
      "(c) Indentation\n",
      "(d) All of the mentioned\n",
      "\n",
      "Would you like to skip this question (y/n)?:n\n",
      "Enter your answer (a/b/c/d):c\n",
      "\n",
      "-*-*-*-*-*-*-*-\n",
      "\u001b[1;42mCorrect answer!\u001b[0m\n",
      "-*-*-*-*-*-*-*-\n",
      "\n",
      "\u001b[1;43mEXPLANATION:\u001b[0m In Python, to define a block of code we use indentation. Indentation refers to whitespaces at the beginning of the line. \n",
      "\n",
      "\n",
      "\u001b[1;3mQ6. Which of the following character is used to give single-line comments in Python?\u001b[0m\n",
      "(a) #\n",
      "(b) ''' '''\n",
      "(c) !\n",
      "(d) /*\n",
      "\n",
      "Would you like to skip this question (y/n)?:n\n",
      "Enter your answer (a/b/c/d):a\n",
      "\n",
      "-*-*-*-*-*-*-*-\n",
      "\u001b[1;42mCorrect answer!\u001b[0m\n",
      "-*-*-*-*-*-*-*-\n",
      "\n",
      "\u001b[1;43mEXPLANATION:\u001b[0m To write single-line comments in Python use the Numero sign (#) at the beginning of the line. To write multi-line comments, close the text between triple quotes. Example: “”” comment“”” \n",
      "\n",
      "\n",
      "\u001b[1;3mQ7. Which of the following is the truncation division operator in Python?\u001b[0m\n",
      "(a) **\n",
      "(b) %\n",
      "(c) |\n",
      "(d) //\n",
      "\n",
      "Would you like to skip this question (y/n)?:n\n",
      "Enter your answer (a/b/c/d):d\n",
      "\n",
      "-*-*-*-*-*-*-*-\n",
      "\u001b[1;42mCorrect answer!\u001b[0m\n",
      "-*-*-*-*-*-*-*-\n",
      "\n",
      "\u001b[1;43mEXPLANATION:\u001b[0m // is the operator for truncation division. It is called so because it returns only the integer part of the quotient, truncating the decimal part. For example: 20//3 = 6. \n",
      "\n",
      "\n",
      "\u001b[1;3mQ8. Which of the following functions is a built-in function in python?\u001b[0m\n",
      "(a) print()\n",
      "(b) factorial()\n",
      "(c) seed()\n",
      "(d) sqrt()\n",
      "\n",
      "Would you like to skip this question (y/n)?:n\n",
      "Enter your answer (a/b/c/d):q\n",
      "\n",
      "x-x-x-x-x-x-x\n",
      "\u001b[1;41mWrong answer!\u001b[0m\n",
      "x-x-x-x-x-x-x\n",
      "\n",
      " \u001b[1;3mQ9. What will be the output of the following Python expression if x=56.236\u001b[0m\n",
      "\n",
      "\u001b[1;47m print(\"%.2f\"%x) \u001b[0m\n",
      "\n",
      "(a) 56.236\n",
      "(b) 56.24\n",
      "(c) 56.0000\n",
      "(d) 56.23\n",
      "\n",
      "Would you like to skip this question (y/n)?:n\n",
      "Enter your answer (a/b/c/d):b\n",
      "\n",
      "-*-*-*-*-*-*-*-\n",
      "\u001b[1;42mCorrect answer!\u001b[0m\n",
      "-*-*-*-*-*-*-*-\n",
      "\n",
      "\u001b[1;43mEXPLANATION:\u001b[0m The expression shown above rounds off the given number to the number of decimal places specified. Since the expression given specifies rounding off to two decimal places, the output of this expression will be 56.24. \n",
      "\n",
      "\n",
      " \u001b[1;3mQ10. What arithmetic operators cannot be used with strings in Python?\u001b[0m'\n",
      "(a) +\n",
      "(b) *\n",
      "(c) -\n",
      "(d) All of the above\n",
      "\n",
      "Would you like to skip this question (y/n)?:n\n",
      "Enter your answer (a/b/c/d):c\n",
      "\n",
      "-*-*-*-*-*-*-*-\n",
      "\u001b[1;42mCorrect answer!\u001b[0m\n",
      "-*-*-*-*-*-*-*-\n",
      "\n",
      "\u001b[1;43mEXPLANATION:\u001b[0m + is used to concatenate and * is used to multiply strings. \n",
      "\n",
      "\u001b[1;46mFinal score:\u001b[0m 80.0 %\n",
      "Very good!\n",
      "\u001b[1;3mThanks for playing,\u001b[0m Viha !\n"
     ]
    }
   ],
   "source": [
    "marks = 0\n",
    "name = input('Enter name:')\n",
    "print('**********************************************')\n",
    "print('\\033[1;3mWelcome to the general knowledge quiz\\033[0m', name, '!')\n",
    "print('**********************************************')\n",
    "\n",
    "for i in questions:\n",
    "    print()\n",
    "    print(i)\n",
    "    print()\n",
    "    choice = input('\\033[1;3mWould you like to skip this question (y/n)?:\\033[0m')\n",
    "    if choice == 'y':\n",
    "        continue\n",
    "    ans = input('\\033[1;3mEnter your answer (a/b/c/d):\\033[0m')\n",
    "    if ans == questions[i]:\n",
    "        print()\n",
    "        print('-*-*-*-*-*-*-*-')\n",
    "        print('\\033[1;42mCorrect answer!\\033[0m')\n",
    "        print('-*-*-*-*-*-*-*-\\n')\n",
    "        print(info[i], '\\n')\n",
    "        marks = marks +1\n",
    "    else:\n",
    "        print()\n",
    "        print('x-x-x-x-x-x-x')\n",
    "        print('\\033[1;41mWrong answer!\\033[0m')\n",
    "        print('x-x-x-x-x-x-x')\n",
    "        \n",
    "print('\\033[1;46mFinal score:\\033[0m', marks/len(questions)*100, '%')\n",
    "if marks == 10:\n",
    "    print('You are a quiz master!')\n",
    "elif marks>6 and marks<10:\n",
    "    print('Very good!')\n",
    "elif marks>2 and marks<6:\n",
    "    print('Good attempt')\n",
    "else:\n",
    "    print('A quiz a day, keeps bad scores away!', '\\n', 'Keep trying', name)\n",
    "print('\\033[1;3mThanks for playing,\\033[0m', name, '!')"
   ]
  }
 ],
 "metadata": {
  "kernelspec": {
   "display_name": "Python 3 (ipykernel)",
   "language": "python",
   "name": "python3"
  },
  "language_info": {
   "codemirror_mode": {
    "name": "ipython",
    "version": 3
   },
   "file_extension": ".py",
   "mimetype": "text/x-python",
   "name": "python",
   "nbconvert_exporter": "python",
   "pygments_lexer": "ipython3",
   "version": "3.9.7"
  }
 },
 "nbformat": 4,
 "nbformat_minor": 5
}
